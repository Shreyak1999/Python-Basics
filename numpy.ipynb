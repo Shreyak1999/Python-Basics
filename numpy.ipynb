{
 "cells": [
  {
   "cell_type": "code",
   "execution_count": 2,
   "id": "3a1710a6",
   "metadata": {},
   "outputs": [],
   "source": [
    "import numpy as np\n",
    "import pandas as pd"
   ]
  },
  {
   "cell_type": "code",
   "execution_count": 2,
   "id": "b99c2c36",
   "metadata": {},
   "outputs": [],
   "source": [
    "array1=np.arange(1,6)"
   ]
  },
  {
   "cell_type": "code",
   "execution_count": 3,
   "id": "77d9b09d",
   "metadata": {},
   "outputs": [
    {
     "data": {
      "text/plain": [
       "array([1, 2, 3, 4, 5])"
      ]
     },
     "execution_count": 3,
     "metadata": {},
     "output_type": "execute_result"
    }
   ],
   "source": [
    "array1"
   ]
  },
  {
   "cell_type": "code",
   "execution_count": 4,
   "id": "d79662f3",
   "metadata": {},
   "outputs": [
    {
     "data": {
      "text/plain": [
       "array([ 2,  4,  6,  8, 10])"
      ]
     },
     "execution_count": 4,
     "metadata": {},
     "output_type": "execute_result"
    }
   ],
   "source": [
    "array1+array1"
   ]
  },
  {
   "cell_type": "code",
   "execution_count": 5,
   "id": "57e68637",
   "metadata": {},
   "outputs": [
    {
     "data": {
      "text/plain": [
       "array([  2.71828183,   7.3890561 ,  20.08553692,  54.59815003,\n",
       "       148.4131591 ])"
      ]
     },
     "execution_count": 5,
     "metadata": {},
     "output_type": "execute_result"
    }
   ],
   "source": [
    "np.exp(array1)"
   ]
  },
  {
   "cell_type": "code",
   "execution_count": 6,
   "id": "b34f0072",
   "metadata": {},
   "outputs": [
    {
     "data": {
      "text/plain": [
       "array([ 1,  4,  9, 16, 25], dtype=int32)"
      ]
     },
     "execution_count": 6,
     "metadata": {},
     "output_type": "execute_result"
    }
   ],
   "source": [
    "np.square(array1)"
   ]
  },
  {
   "cell_type": "code",
   "execution_count": 7,
   "id": "98b5a43f",
   "metadata": {},
   "outputs": [
    {
     "data": {
      "text/plain": [
       "array([1.        , 1.41421356, 1.73205081, 2.        , 2.23606798])"
      ]
     },
     "execution_count": 7,
     "metadata": {},
     "output_type": "execute_result"
    }
   ],
   "source": [
    "np.sqrt(array1)"
   ]
  },
  {
   "cell_type": "code",
   "execution_count": 8,
   "id": "02709e71",
   "metadata": {},
   "outputs": [
    {
     "data": {
      "text/plain": [
       "array([0.        , 0.69314718, 1.09861229, 1.38629436, 1.60943791])"
      ]
     },
     "execution_count": 8,
     "metadata": {},
     "output_type": "execute_result"
    }
   ],
   "source": [
    "np.log(array1)"
   ]
  },
  {
   "cell_type": "code",
   "execution_count": 9,
   "id": "833ed351",
   "metadata": {},
   "outputs": [
    {
     "data": {
      "text/plain": [
       "5"
      ]
     },
     "execution_count": 9,
     "metadata": {},
     "output_type": "execute_result"
    }
   ],
   "source": [
    "np.max(array1)"
   ]
  },
  {
   "cell_type": "code",
   "execution_count": 10,
   "id": "db3eef8f",
   "metadata": {},
   "outputs": [
    {
     "data": {
      "text/plain": [
       "1"
      ]
     },
     "execution_count": 10,
     "metadata": {},
     "output_type": "execute_result"
    }
   ],
   "source": [
    "np.min(array1)"
   ]
  },
  {
   "cell_type": "code",
   "execution_count": 11,
   "id": "de43a34e",
   "metadata": {},
   "outputs": [
    {
     "data": {
      "text/plain": [
       "4"
      ]
     },
     "execution_count": 11,
     "metadata": {},
     "output_type": "execute_result"
    }
   ],
   "source": [
    "np.argmax(array1)"
   ]
  },
  {
   "cell_type": "code",
   "execution_count": 12,
   "id": "73a6f09b",
   "metadata": {},
   "outputs": [
    {
     "data": {
      "text/plain": [
       "0"
      ]
     },
     "execution_count": 12,
     "metadata": {},
     "output_type": "execute_result"
    }
   ],
   "source": [
    "np.argmin(array1)"
   ]
  },
  {
   "cell_type": "code",
   "execution_count": 13,
   "id": "08707a49",
   "metadata": {},
   "outputs": [
    {
     "data": {
      "text/plain": [
       "2.0"
      ]
     },
     "execution_count": 13,
     "metadata": {},
     "output_type": "execute_result"
    }
   ],
   "source": [
    "np.var(array1)"
   ]
  },
  {
   "cell_type": "code",
   "execution_count": 14,
   "id": "dbd95625",
   "metadata": {},
   "outputs": [
    {
     "data": {
      "text/plain": [
       "1.4142135623730951"
      ]
     },
     "execution_count": 14,
     "metadata": {},
     "output_type": "execute_result"
    }
   ],
   "source": [
    "np.std(array1)"
   ]
  },
  {
   "cell_type": "code",
   "execution_count": 15,
   "id": "57141727",
   "metadata": {},
   "outputs": [
    {
     "data": {
      "text/plain": [
       "3.0"
      ]
     },
     "execution_count": 15,
     "metadata": {},
     "output_type": "execute_result"
    }
   ],
   "source": [
    "np.mean(array1)"
   ]
  },
  {
   "cell_type": "code",
   "execution_count": 16,
   "id": "cab80066",
   "metadata": {},
   "outputs": [
    {
     "data": {
      "text/plain": [
       "15"
      ]
     },
     "execution_count": 16,
     "metadata": {},
     "output_type": "execute_result"
    }
   ],
   "source": [
    "np.sum(array1)"
   ]
  },
  {
   "cell_type": "code",
   "execution_count": 19,
   "id": "bd974639",
   "metadata": {},
   "outputs": [
    {
     "data": {
      "text/plain": [
       "array([1, 2, 3, 4, 5])"
      ]
     },
     "execution_count": 19,
     "metadata": {},
     "output_type": "execute_result"
    }
   ],
   "source": [
    "np.unique(array1)"
   ]
  },
  {
   "cell_type": "code",
   "execution_count": 5,
   "id": "f0276f42",
   "metadata": {},
   "outputs": [
    {
     "data": {
      "text/plain": [
       "array([[-0.30051942,  0.08751411,  1.50245272, -0.74655439,  1.89147247,\n",
       "         1.06924517],\n",
       "       [-0.25484203, -0.8086398 ,  0.32178022, -0.60146068,  1.65687171,\n",
       "        -0.07748412],\n",
       "       [-0.95471587,  0.28191554, -0.30625214,  0.90563308,  1.70097987,\n",
       "        -0.73788143],\n",
       "       [-1.08991772,  0.2093096 ,  0.03428897, -0.61164661, -0.51281453,\n",
       "        -0.40133311]])"
      ]
     },
     "execution_count": 5,
     "metadata": {},
     "output_type": "execute_result"
    }
   ],
   "source": [
    "ard1=np.random.randn(4,6)\n",
    "ard1"
   ]
  },
  {
   "cell_type": "code",
   "execution_count": 6,
   "id": "c8c56dd4",
   "metadata": {
    "scrolled": true
   },
   "outputs": [
    {
     "data": {
      "text/plain": [
       "array([[-0.,  0.,  2., -1.,  2.,  1.],\n",
       "       [-0., -1.,  0., -1.,  2., -0.],\n",
       "       [-1.,  0., -0.,  1.,  2., -1.],\n",
       "       [-1.,  0.,  0., -1., -1., -0.]])"
      ]
     },
     "execution_count": 6,
     "metadata": {},
     "output_type": "execute_result"
    }
   ],
   "source": [
    "np.round(ard1)"
   ]
  },
  {
   "cell_type": "code",
   "execution_count": null,
   "id": "5c6839d6",
   "metadata": {},
   "outputs": [],
   "source": []
  }
 ],
 "metadata": {
  "kernelspec": {
   "display_name": "Python 3",
   "language": "python",
   "name": "python3"
  },
  "language_info": {
   "codemirror_mode": {
    "name": "ipython",
    "version": 3
   },
   "file_extension": ".py",
   "mimetype": "text/x-python",
   "name": "python",
   "nbconvert_exporter": "python",
   "pygments_lexer": "ipython3",
   "version": "3.8.8"
  }
 },
 "nbformat": 4,
 "nbformat_minor": 5
}
